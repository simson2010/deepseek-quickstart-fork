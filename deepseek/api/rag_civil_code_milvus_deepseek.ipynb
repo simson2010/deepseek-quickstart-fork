{
 "cells": [
  {
   "cell_type": "markdown",
   "id": "20549885",
   "metadata": {},
   "source": [
    "# 使用 Milvus 和 DeepSeek 构建 RAG\n",
    "\n",
    "DeepSeek 帮助开发者使用高性能语言模型构建和扩展 AI 应用。它提供高效的推理、灵活的 API 以及先进的专家混合 (MoE) 架构，用于强大的推理和检索任务。\n",
    "\n",
    "在本教程中，我们将展示如何使用 Milvus 和 DeepSeek 构建一个检索增强生成 (RAG) 管道。"
   ]
  },
  {
   "cell_type": "markdown",
   "id": "7394c701",
   "metadata": {},
   "source": [
    "## 准备工作"
   ]
  },
  {
   "cell_type": "markdown",
   "id": "89103a1e",
   "metadata": {},
   "source": [
    "### 依赖与环境"
   ]
  },
  {
   "cell_type": "code",
   "execution_count": null,
   "id": "9c18d7b4",
   "metadata": {},
   "outputs": [],
   "source": [
    "!pip install \"pymilvus[model]==2.5.10\" openai==1.82.0 requests==2.32.3 tqdm==4.67.1 torch==2.7.0"
   ]
  },
  {
   "cell_type": "markdown",
   "id": "1b3c0999-d670-41a9-afbd-d8a020fe1631",
   "metadata": {},
   "source": [
    "---"
   ]
  },
  {
   "cell_type": "code",
   "execution_count": 1,
   "id": "375ad823",
   "metadata": {},
   "outputs": [],
   "source": [
    "import os\n",
    "\n",
    "# 从环境变量获取 DeepSeek API Key\n",
    "api_key = os.getenv(\"DEEPSEEK_API_KEY\")"
   ]
  },
  {
   "cell_type": "markdown",
   "id": "db44bb26",
   "metadata": {},
   "source": [
    "### 准备数据"
   ]
  },
  {
   "cell_type": "markdown",
   "id": "25f92a95",
   "metadata": {},
   "source": [
    "我们使用 Milvus 文档 2.4.x 中的 FAQ 页面作为我们 RAG 中的私有知识库，这是一个简单 RAG 管道的良好数据源。"
   ]
  },
  {
   "cell_type": "markdown",
   "id": "a1a8b9e2",
   "metadata": {},
   "source": [
    "下载 zip 文件并将文档解压到 `milvus_docs` 文件夹。\n",
    "\n",
    "**建议在命令行执行下面命令**"
   ]
  },
  {
   "cell_type": "code",
   "execution_count": 2,
   "id": "a81fa031",
   "metadata": {},
   "outputs": [],
   "source": [
    "#!wget https://github.com/milvus-io/milvus-docs/releases/download/v2.4.6-preview/milvus_docs_2.4.x_en.zip\n",
    "#!unzip -q milvus_docs_2.4.x_en.zip -d milvus_docs"
   ]
  },
  {
   "cell_type": "markdown",
   "id": "d1198466",
   "metadata": {},
   "source": [
    "我们从 `milvus_docs/en/faq` 文件夹加载所有 markdown 文件。对于每个文档，我们简单地使用 \"# \" 来分割文件中的内容，这样可以大致分离出 markdown 文件中每个主要部分的内容。"
   ]
  },
  {
   "cell_type": "code",
   "execution_count": 5,
   "id": "c9035a5f",
   "metadata": {},
   "outputs": [],
   "source": [
    "from glob import glob\n",
    "import re\n",
    "\n",
    "text_lines = []\n",
    "\n",
    "def split_civil_code():\n",
    "    # 使用正则表达式匹配标题和内容\n",
    "    # 读取文件内容\n",
    "    with open(\"mfd.md\", \"r\", encoding=\"utf-8\") as file:\n",
    "        content = file.read()\n",
    "\n",
    "    # 使用正则表达式按 `**第xxx条**` 分割\n",
    "    sections = re.split(r'(\\*\\*第[零一二三四五六七八九十百千]+条\\*\\*)', content)\n",
    "\n",
    "    # 将分割后的内容组合成列表\n",
    "    result = []\n",
    "    for i in range(1, len(sections), 2):\n",
    "        result.append(sections[i] + sections[i+1].strip())\n",
    "\n",
    "    return result\n",
    "\n",
    "text_lines=split_civil_code()"
   ]
  },
  {
   "cell_type": "code",
   "execution_count": 6,
   "id": "01b73e74-ee7d-4daf-b7db-1c7a10bfc0bf",
   "metadata": {},
   "outputs": [
    {
     "data": {
      "text/plain": [
       "387"
      ]
     },
     "execution_count": 6,
     "metadata": {},
     "output_type": "execute_result"
    }
   ],
   "source": [
    "len(text_lines)"
   ]
  },
  {
   "cell_type": "code",
   "execution_count": 93,
   "id": "98fe20d6",
   "metadata": {},
   "outputs": [],
   "source": [
    "text_lines = all_lines[0:20]"
   ]
  },
  {
   "cell_type": "code",
   "execution_count": 94,
   "id": "d0e0537d",
   "metadata": {},
   "outputs": [
    {
     "data": {
      "text/plain": [
       "['**第二百零四条**为了明确物的归属，充分发挥物的效用，保护权利人的合法权益，维护社会经济秩序，制定本编。',\n",
       " '**第二百零五条**本编调整因物的归属和利用产生的民事关系。',\n",
       " '**第二百零六条**国家坚持和完善社会主义公有制为主体、多种所有制经济共同发展的基本经济制度。\\n国家巩固和发展公有制经济，鼓励、支持和引导非公有制经济的发展。\\n国家实行社会主义市场经济，保障一切市场主体的平等法律地位和发展权利。',\n",
       " '**第二百零七条**国家、集体、私人的物权和其他权利人的物权受法律平等保护，任何组织或者个人不得侵犯。',\n",
       " '**第二百零八条**不动产权利的设立、变更、转让和消灭，应当依照法律规定登记。动产物权的设立和转让，应当依照法律规定交付。',\n",
       " '**第二百零九条**不动产物权的设立、变更、转让和消灭，经依法登记，发生效力；未经登记，不发生效力，但是法律另有规定的除外。\\n依法属于国家所有的自然资源，所有权可以不登记。',\n",
       " '**第二百一十条**不动产登记，由不动产所在地的登记机构办理。\\n国家对不动产实行统一登记制度。统一登记的范围、登记机构和登记办法，由法律、行政法规规定。',\n",
       " '**第二百一十一条**当事人申请登记，应当根据不同登记事项提供材料。\\n申请登记材料以及登记事项相关信息，可以公开查询。',\n",
       " '**第二百一十二条**登记机构应当履行下列职责：\\n（一）审查申请人提供的材料；\\n（二）询问申请人；\\n（三）如实、及时登记；\\n（四）法律、行政法规规定的其他职责。\\n申请登记的不动产存在尚未解决的权属争议的，登记机构应当不予登记，并书面告知申请人。',\n",
       " '**第二百一十三条**登记机构不得有下列行为：\\n（一）要求对不动产进行评估；\\n（二）以不动产登记为条件收取其他费用；\\n（三）超出登记职责范围的其他行为。',\n",
       " '**第二百一十四条**不动产物权的设立、变更、转让和消灭，依照法律规定应当登记的，自记载于不动产登记簿时发生效力。',\n",
       " '**第二百一十五条**不动产登记簿由登记机构管理。\\n不动产登记簿应当采用纸质形式或者电子形式。\\n不动产登记簿采用电子形式的，应当备份。',\n",
       " '**第二百一十六条**不动产登记簿是物权归属和内容的根据。\\n不动产登记簿记载的事项与不动产权属证书记载的事项不一致的，除有证据证明不动产登记簿确有错误外，以不动产登记簿为准。',\n",
       " '**第二百一十七条**不动产权属证书是权利人享有该不动产物权的证明。不动产权属证书记载的事项，应当与不动产登记簿一致；不一致的，除有证据证明不动产登记簿确有错误外，以不动产登记簿为准。',\n",
       " '**第二百一十八条**权利人、利害关系人可以申请查询、复制不动产登记资料，登记机构应当提供。',\n",
       " '**第二百一十九条**利害关系人可以申请查询不动产登记资料。申请查询的，登记机构应当提供。',\n",
       " '**第二百二十条**权利人、利害关系人认为不动产登记簿记载的事项错误的，可以申请更正登记。不动产登记簿记载的权利人书面同意或者有证据证明登记确有错误的，登记机构应当予以更正。\\n不动产登记簿记载的权利人不同意更正的，利害关系人可以申请异议登记。登记机构予以异议登记的，申请人在异议登记之日起十五日内不提起诉讼的，异议登记失效。异议登记不当，造成权利人损害的，权利人可以请求损害赔偿。',\n",
       " '**第二百二十一条**当事人签订买卖房屋的协议或者签订其他不动产物权的协议，为保障将来实现物权，可以依照约定向登记机构申请预告登记。预告登记后，未经预告登记的权利人同意，处分该不动产的，不发生物权效力。\\n预告登记后，债权消灭或者自能够进行不动产登记之日起九十日内未申请登记的，预告登记失效。',\n",
       " '**第二百二十二条**当事人提供虚假材料申请登记，给他人造成损害的，应当承担赔偿责任。\\n因登记机构登记错误，给他人造成损害的，应当承担赔偿责任。登记机构赔偿后，可以向造成登记错误的人追偿。',\n",
       " '**第二百二十三条**动产物权的设立和转让，自交付时发生效力，但是法律另有规定的除外。']"
      ]
     },
     "execution_count": 94,
     "metadata": {},
     "output_type": "execute_result"
    }
   ],
   "source": [
    "text_lines"
   ]
  },
  {
   "cell_type": "markdown",
   "id": "4cc2a0b8",
   "metadata": {},
   "source": [
    "### 准备 LLM 和 Embedding 模型"
   ]
  },
  {
   "cell_type": "markdown",
   "id": "19eaff7a",
   "metadata": {},
   "source": [
    "DeepSeek 支持 OpenAI 风格的 API，您可以使用相同的 API 进行微小调整来调用 LLM。"
   ]
  },
  {
   "cell_type": "code",
   "execution_count": 7,
   "id": "b994eb47",
   "metadata": {},
   "outputs": [],
   "source": [
    "from openai import OpenAI\n",
    "\n",
    "deepseek_client = OpenAI(\n",
    "    api_key=api_key,\n",
    "    base_url=\"https://api.deepseek.com/v1\",  # DeepSeek API 的基地址\n",
    ")"
   ]
  },
  {
   "cell_type": "markdown",
   "id": "1cc5a5e2",
   "metadata": {},
   "source": [
    "定义一个 embedding 模型，使用 `milvus_model` 来生成文本嵌入。我们以 `DefaultEmbeddingFunction` 模型为例，这是一个预训练的轻量级嵌入模型。"
   ]
  },
  {
   "cell_type": "code",
   "execution_count": 8,
   "id": "3a94242a",
   "metadata": {},
   "outputs": [],
   "source": [
    "from pymilvus import model as milvus_model\n",
    "\n",
    "embedding_model = milvus_model.DefaultEmbeddingFunction()\n"
   ]
  },
  {
   "cell_type": "markdown",
   "id": "93fb1696",
   "metadata": {},
   "source": [
    "生成一个测试嵌入并打印其维度和前几个元素。"
   ]
  },
  {
   "cell_type": "code",
   "execution_count": 46,
   "id": "88a27567",
   "metadata": {},
   "outputs": [
    {
     "name": "stdout",
     "output_type": "stream",
     "text": [
      "768\n",
      "[-0.04836059  0.07163021 -0.01130063 -0.03789341 -0.03320651 -0.01318453\n",
      " -0.03041721 -0.02269495 -0.02317858 -0.00426026]\n"
     ]
    }
   ],
   "source": [
    "test_embedding = embedding_model.encode_queries([\"This is a test\"])[0]\n",
    "embedding_dim = len(test_embedding)\n",
    "print(embedding_dim)\n",
    "print(test_embedding[:10])"
   ]
  },
  {
   "cell_type": "code",
   "execution_count": 10,
   "id": "f7683f3a-d9e4-4c8e-9a66-c341911bef6b",
   "metadata": {},
   "outputs": [
    {
     "name": "stdout",
     "output_type": "stream",
     "text": [
      "[-0.02752976  0.0608853   0.00388525 -0.00215193 -0.02774976 -0.0118618\n",
      " -0.04020916 -0.06023417 -0.03813156  0.0100272 ]\n"
     ]
    }
   ],
   "source": [
    "test_embedding_0 = embedding_model.encode_queries([\"That is a test\"])[0]\n",
    "print(test_embedding_0[:10])"
   ]
  },
  {
   "cell_type": "markdown",
   "id": "5a778887",
   "metadata": {},
   "source": [
    "## 将数据加载到 Milvus"
   ]
  },
  {
   "cell_type": "markdown",
   "id": "02b23a24",
   "metadata": {},
   "source": [
    "### 创建 Collection"
   ]
  },
  {
   "cell_type": "code",
   "execution_count": 47,
   "id": "95e84b8c",
   "metadata": {},
   "outputs": [],
   "source": [
    "from pymilvus import MilvusClient\n",
    "\n",
    "milvus_client = MilvusClient(uri=\"./milvus_civil_code_demo.db\")\n",
    "\n",
    "collection_name = \"rag_civil_code_collection\""
   ]
  },
  {
   "cell_type": "markdown",
   "id": "68648561",
   "metadata": {},
   "source": [
    "关于 `MilvusClient` 的参数：\n",
    "\n",
    "*   将 `uri` 设置为本地文件，例如 `./milvus.db`，是最方便的方法，因为它会自动利用 Milvus Lite 将所有数据存储在此文件中。\n",
    "*   如果您有大规模数据，可以在 Docker 或 Kubernetes 上设置性能更高的 Milvus 服务器。在此设置中，请使用服务器 URI，例如 `http://localhost:19530`，作为您的 `uri`。\n",
    "*   如果您想使用 Zilliz Cloud（Milvus 的完全托管云服务），请调整 `uri` 和 `token`，它们对应 Zilliz Cloud 中的 Public Endpoint 和 Api key。"
   ]
  },
  {
   "cell_type": "markdown",
   "id": "5ce1bf3e",
   "metadata": {},
   "source": [
    "检查 collection 是否已存在，如果存在则删除它。"
   ]
  },
  {
   "cell_type": "code",
   "execution_count": 85,
   "id": "aee85c08",
   "metadata": {},
   "outputs": [],
   "source": [
    "if milvus_client.has_collection(collection_name):\n",
    "    milvus_client.drop_collection(collection_name)"
   ]
  },
  {
   "cell_type": "markdown",
   "id": "73eb379f",
   "metadata": {},
   "source": [
    "创建一个具有指定参数的新 collection。\n",
    "\n",
    "如果我们不指定任何字段信息，Milvus 将自动创建一个默认的 `id` 字段作为主键，以及一个 `vector` 字段来存储向量数据。一个保留的 JSON 字段用于存储非 schema 定义的字段及其值。\n",
    "\n",
    "`metric_type` (距离度量类型):\n",
    "     作用：定义如何计算向量之间的相似程度。\n",
    "     例如：`IP` (内积) - 值越大通常越相似；`L2` (欧氏距离) - 值越小越相似；`COSINE` (余弦相似度) - 通常转换为距离，值越小越相似。\n",
    "     选择依据：根据你的嵌入模型的特性和期望的相似性定义来选择。\n",
    "\n",
    " `consistency_level` (一致性级别):\n",
    "     作用：定义数据写入后，读取操作能多快看到这些新数据。\n",
    "     例如：\n",
    "         `Strong` (强一致性): 总是读到最新数据，可能稍慢。\n",
    "         `Bounded` (有界过期): 可能读到几秒内旧数据，性能较好 (默认)。\n",
    "         `Session` (会话一致性): 自己写入的自己能立刻读到。\n",
    "         `Eventually` (最终一致性): 最终会读到新数据，但没时间保证，性能最好。\n",
    "     选择依据：在数据实时性要求和系统性能之间做权衡。\n",
    "\n",
    "简单来说：\n",
    " `metric_type`：怎么算相似。\n",
    " `consistency_level`：新数据多久能被读到。"
   ]
  },
  {
   "cell_type": "code",
   "execution_count": 86,
   "id": "bd0b2df8",
   "metadata": {},
   "outputs": [],
   "source": [
    "milvus_client.create_collection(\n",
    "    collection_name=collection_name,\n",
    "    dimension=embedding_dim,\n",
    "    metric_type=\"COSINE\",  # 内积距离\n",
    "    consistency_level=\"Strong\",  # 支持的值为 (`\"Strong\"`, `\"Session\"`, `\"Bounded\"`, `\"Eventually\"`)。更多详情请参见 https://milvus.io/docs/consistency.md#Consistency-Level。\n",
    ")"
   ]
  },
  {
   "cell_type": "markdown",
   "id": "9c15bafb",
   "metadata": {},
   "source": [
    "### 插入数据"
   ]
  },
  {
   "cell_type": "markdown",
   "id": "171d3b35",
   "metadata": {},
   "source": [
    "遍历文本行，创建嵌入，然后将数据插入 Milvus。\n",
    "\n",
    "这里有一个新字段 `text`，它是在 collection schema 中未定义的字段。它将自动添加到保留的 JSON 动态字段中，该字段在高级别上可以被视为普通字段。"
   ]
  },
  {
   "cell_type": "code",
   "execution_count": 71,
   "id": "f5fa40bd",
   "metadata": {},
   "outputs": [],
   "source": [
    "###\n",
    "#对以上条件做总结，和输出5个相关的标签， 用JSON格式输出\n",
    "#{ 'summary': <内容>, \n",
    "#   'tags': [ '<tag1>',...] \n",
    "#}\n",
    "import json \n",
    "\n",
    "system_prompt_summary = \"\"\"\n",
    "对每个user input做总结，和输出5个相关的标签， 用JSON格式输出。\n",
    "## 限制\n",
    "1. 只需要输出生成的JSON。\n",
    "2. 不要输出任何解释。\n",
    "3. 不要输出任何其他内容。\n",
    "4. 总结内容不要超过20字。\n",
    "5. 标签不要超过5个字。\n",
    "\n",
    "## 格式\n",
    "{ \n",
    "'summary': <内容>, \n",
    "'tags': [ '<tag1>',...] \n",
    "}\n",
    "\"\"\"\n",
    "\n",
    "def get_civil_code_summary(text):\n",
    "    response = deepseek_client.chat.completions.create(\n",
    "            model=\"deepseek-chat\",\n",
    "            messages=[\n",
    "            {\"role\": \"system\", \"content\": system_prompt_summary},\n",
    "            {\"role\": \"user\", \"content\": text},            \n",
    "        ],\n",
    "        response_format={\n",
    "            'type': 'json_object'\n",
    "        }\n",
    "    )\n",
    "    jsonText = response.choices[0].message.content.replace(\"```json\", \"\").replace(\"```\", \"\")\n",
    "    jsonText\n",
    "    return json.loads(jsonText)"
   ]
  },
  {
   "cell_type": "code",
   "execution_count": 96,
   "id": "15b4bd2f",
   "metadata": {},
   "outputs": [],
   "source": [
    "text_lines_summary = []\n",
    "text_lines_tags = []\n",
    "\n",
    "for line in text_lines:\n",
    "    summary = get_civil_code_summary(line)\n",
    "    text_lines_summary.append(summary['summary'])\n",
    "    text_lines_tags.append(summary['tags'])"
   ]
  },
  {
   "cell_type": "code",
   "execution_count": 98,
   "id": "8559bb07",
   "metadata": {},
   "outputs": [
    {
     "name": "stdout",
     "output_type": "stream",
     "text": [
      "20\n",
      "[['物权', '权益保护', '经济秩序', '法律', '归属'], ['物权', '民事关系', '归属', '利用', '法律'], ['社会主义', '公有制', '非公有制', '市场经济', '法律平等'], ['物权', '法律', '平等', '保护', '权利'], ['不动产', '动产物权', '法律登记', '物权转让', '法律规定'], ['物权法', '不动产', '登记', '法律', '自然资源'], ['不动产', '登记', '法律', '行政法规', '统一制度'], ['登记', '材料', '公开查询', '申请', '事项'], ['登记机构', '职责', '不动产', '权属争议', '法律'], ['不动产', '登记', '禁止', '评估', '收费'], ['物权', '不动产', '登记', '法律', '效力'], ['不动产', '登记簿', '管理', '纸质', '电子'], ['不动产', '登记簿', '物权归属', '权属证书', '法律依据'], ['不动产', '权属证书', '物权', '登记簿', '法律'], ['不动产', '查询', '复制', '登记', '权利'], ['不动产', '登记', '查询', '利害关系人', '法律'], ['不动产', '更正登记', '异议登记', '权利人', '损害赔偿'], ['物权', '预告登记', '不动产', '债权', '登记失效'], ['赔偿', '虚假材料', '登记错误', '法律责任', '追偿'], ['物权', '动产', '转让', '法律', '效力']]\n"
     ]
    }
   ],
   "source": [
    "print(len(text_lines_summary))\n",
    "print((text_lines_tags))"
   ]
  },
  {
   "cell_type": "code",
   "execution_count": 91,
   "id": "70956bc5",
   "metadata": {},
   "outputs": [
    {
     "data": {
      "text/plain": [
       "387"
      ]
     },
     "execution_count": 91,
     "metadata": {},
     "output_type": "execute_result"
    }
   ],
   "source": [
    "len(text_lines)"
   ]
  },
  {
   "cell_type": "code",
   "execution_count": 99,
   "id": "ad077094",
   "metadata": {},
   "outputs": [
    {
     "name": "stderr",
     "output_type": "stream",
     "text": [
      "Creating embeddings: 100%|██████████| 20/20 [00:00<00:00, 19691.57it/s]\n"
     ]
    },
    {
     "data": {
      "text/plain": [
       "{'insert_count': 20, 'ids': [0, 1, 2, 3, 4, 5, 6, 7, 8, 9, 10, 11, 12, 13, 14, 15, 16, 17, 18, 19], 'cost': 0}"
      ]
     },
     "execution_count": 99,
     "metadata": {},
     "output_type": "execute_result"
    }
   ],
   "source": [
    "from tqdm import tqdm\n",
    "import re \n",
    "\n",
    "pattern = r'\\*\\*第[零一二三四五六七八九十百千]+条\\*\\*\\s*'\n",
    "\n",
    "data = []\n",
    "\n",
    "clean_text_lines = [re.sub(pattern, '', line) for line in text_lines]\n",
    "\n",
    "doc_embeddings = embedding_model.encode_documents(clean_text_lines)\n",
    "\n",
    "for i, line in enumerate(tqdm(clean_text_lines, desc=\"Creating embeddings\")):\n",
    "    data.append({\"id\": i, \n",
    "                 \"vector\": doc_embeddings[i], \n",
    "                 \"text\": line, \n",
    "                 \"summary\": text_lines_summary[i], \n",
    "                 \"tags\": \",\".join(text_lines_tags[i])})\n",
    "\n",
    "milvus_client.insert(collection_name=collection_name, data=data)"
   ]
  },
  {
   "cell_type": "markdown",
   "id": "bd971f6b",
   "metadata": {},
   "source": [
    "## 构建 RAG"
   ]
  },
  {
   "cell_type": "markdown",
   "id": "534dc076",
   "metadata": {},
   "source": [
    "### 检索查询数据"
   ]
  },
  {
   "cell_type": "markdown",
   "id": "5a6fd7e7",
   "metadata": {},
   "source": [
    "我们指定一个关于 Milvus 的常见问题。"
   ]
  },
  {
   "cell_type": "code",
   "execution_count": 15,
   "id": "6e2f5c6a",
   "metadata": {},
   "outputs": [],
   "source": [
    "question = \"​​什么是“预告登记”？\""
   ]
  },
  {
   "cell_type": "markdown",
   "id": "52401a38",
   "metadata": {},
   "source": [
    "在 collection 中搜索该问题，并检索语义上最匹配的前3个结果。"
   ]
  },
  {
   "cell_type": "code",
   "execution_count": 135,
   "id": "0dd4cbac",
   "metadata": {},
   "outputs": [],
   "source": [
    "def search(question):\n",
    "    query = [question] if isinstance(question, str) else question\n",
    "    search_res = milvus_client.search(\n",
    "        collection_name=collection_name,\n",
    "        data=embedding_model.encode_queries(\n",
    "        query\n",
    "    ),  # 将问题转换为嵌入向量\n",
    "    limit=10,  # 返回前3个结果\n",
    "    search_params={\"metric_type\": \"COSINE\", \"params\": {}},  # 内积距离\n",
    "        output_fields=[\"text\",\"tags\",\"summary\"],  # 返回 text 字段\n",
    "    )\n",
    "    return search_res   \n"
   ]
  },
  {
   "cell_type": "code",
   "execution_count": 212,
   "id": "46ae9306",
   "metadata": {},
   "outputs": [],
   "source": [
    "question = \"不动产\"\n",
    "search_res = search(question)"
   ]
  },
  {
   "cell_type": "code",
   "execution_count": 213,
   "id": "e21bf47d",
   "metadata": {},
   "outputs": [
    {
     "name": "stdout",
     "output_type": "stream",
     "text": [
      "text like \"%{q}%\"\n"
     ]
    }
   ],
   "source": [
    "# 查询所有匹配的实体\n",
    "fuzzy_query = 'text like \"%{q}%\"'\n",
    "# fuzzy_query = \"summary like '%预告登记%'\"\n",
    "print(fuzzy_query)\n",
    "query_result = milvus_client.query(\n",
    "    collection_name=collection_name,\n",
    "    filter=fuzzy_query,\n",
    "    output_fields=[\"text\",\"tags\",\"summary\"],\n",
    "    search_params={\"metric_type\": \"COSINE\", \"params\": {\"search_list\": 100}},\n",
    "    limit=5,\n",
    "    filter_params = {\"q\": \"不动产\"}\n",
    ")"
   ]
  },
  {
   "cell_type": "code",
   "execution_count": 214,
   "id": "ae89bba6",
   "metadata": {},
   "outputs": [
    {
     "data": {
      "text/plain": [
       "data: []"
      ]
     },
     "execution_count": 214,
     "metadata": {},
     "output_type": "execute_result"
    }
   ],
   "source": [
    "query_result"
   ]
  },
  {
   "cell_type": "code",
   "execution_count": 215,
   "id": "90200bce",
   "metadata": {},
   "outputs": [
    {
     "name": "stdout",
     "output_type": "stream",
     "text": [
      "{'id': 1, 'distance': 1.0000001192092896, 'entity': {'text': '本编调整因物的归属和利用产生的民事关系。', 'summary': '调整物权民事关系', 'tags': '物权,民事关系,归属,利用,法律'}}\n",
      "{'id': 11, 'distance': 0.8316565155982971, 'entity': {'text': '不动产登记簿由登记机构管理。\\n不动产登记簿应当采用纸质形式或者电子形式。\\n不动产登记簿采用电子形式的，应当备份。', 'summary': '不动产登记簿管理规范', 'tags': '不动产,登记簿,管理,纸质,电子'}}\n",
      "{'id': 12, 'distance': 0.7050387263298035, 'entity': {'text': '不动产登记簿是物权归属和内容的根据。\\n不动产登记簿记载的事项与不动产权属证书记载的事项不一致的，除有证据证明不动产登记簿确有错误外，以不动产登记簿为准。', 'summary': '不动产登记簿为物权归属依据', 'tags': '不动产,登记簿,物权归属,权属证书,法律依据'}}\n",
      "{'id': 2, 'distance': 0.6966318488121033, 'entity': {'text': '国家坚持和完善社会主义公有制为主体、多种所有制经济共同发展的基本经济制度。\\n国家巩固和发展公有制经济，鼓励、支持和引导非公有制经济的发展。\\n国家实行社会主义市场经济，保障一切市场主体的平等法律地位和发展权利。', 'summary': '国家坚持多种所有制经济共同发展', 'tags': '社会主义,公有制,非公有制,市场经济,法律平等'}}\n",
      "{'id': 7, 'distance': 0.6711220145225525, 'entity': {'text': '当事人申请登记，应当根据不同登记事项提供材料。\\n申请登记材料以及登记事项相关信息，可以公开查询。', 'summary': '登记申请需提供材料', 'tags': '登记,材料,公开查询,申请,事项'}}\n",
      "{'id': 6, 'distance': 0.6711220145225525, 'entity': {'text': '不动产登记，由不动产所在地的登记机构办理。\\n国家对不动产实行统一登记制度。统一登记的范围、登记机构和登记办法，由法律、行政法规规定。', 'summary': '不动产登记规定', 'tags': '不动产,登记,法律,行政法规,统一制度'}}\n",
      "{'id': 15, 'distance': 0.6660386323928833, 'entity': {'text': '利害关系人可以申请查询不动产登记资料。申请查询的，登记机构应当提供。', 'summary': '利害关系人可查询不动产登记资料', 'tags': '不动产,登记,查询,利害关系人,法律'}}\n",
      "{'id': 14, 'distance': 0.6660386323928833, 'entity': {'text': '权利人、利害关系人可以申请查询、复制不动产登记资料，登记机构应当提供。', 'summary': '权利人可查询不动产资料', 'tags': '不动产,查询,复制,登记,权利'}}\n",
      "{'id': 3, 'distance': 0.6660386323928833, 'entity': {'text': '国家、集体、私人的物权和其他权利人的物权受法律平等保护，任何组织或者个人不得侵犯。', 'summary': '物权受法律平等保护', 'tags': '物权,法律,平等,保护,权利'}}\n",
      "{'id': 10, 'distance': 0.6521183252334595, 'entity': {'text': '不动产物权的设立、变更、转让和消灭，依照法律规定应当登记的，自记载于不动产登记簿时发生效力。', 'summary': '不动产登记效力规定', 'tags': '物权,不动产,登记,法律,效力'}}\n"
     ]
    }
   ],
   "source": [
    "for res in search_res[0]:\n",
    "    print(res)"
   ]
  },
  {
   "cell_type": "markdown",
   "id": "ffcce135",
   "metadata": {},
   "source": [
    "让我们看一下查询的搜索结果"
   ]
  },
  {
   "cell_type": "code",
   "execution_count": 216,
   "id": "6a7f6eb3",
   "metadata": {},
   "outputs": [
    {
     "name": "stdout",
     "output_type": "stream",
     "text": [
      "[\n",
      "    [\n",
      "        \"\\u672c\\u7f16\\u8c03\\u6574\\u56e0\\u7269\\u7684\\u5f52\\u5c5e\\u548c\\u5229\\u7528\\u4ea7\\u751f\\u7684\\u6c11\\u4e8b\\u5173\\u7cfb\\u3002\",\n",
      "        1.0000001192092896\n",
      "    ],\n",
      "    [\n",
      "        \"\\u4e0d\\u52a8\\u4ea7\\u767b\\u8bb0\\u7c3f\\u7531\\u767b\\u8bb0\\u673a\\u6784\\u7ba1\\u7406\\u3002\\n\\u4e0d\\u52a8\\u4ea7\\u767b\\u8bb0\\u7c3f\\u5e94\\u5f53\\u91c7\\u7528\\u7eb8\\u8d28\\u5f62\\u5f0f\\u6216\\u8005\\u7535\\u5b50\\u5f62\\u5f0f\\u3002\\n\\u4e0d\\u52a8\\u4ea7\\u767b\\u8bb0\\u7c3f\\u91c7\\u7528\\u7535\\u5b50\\u5f62\\u5f0f\\u7684\\uff0c\\u5e94\\u5f53\\u5907\\u4efd\\u3002\",\n",
      "        0.8316565155982971\n",
      "    ],\n",
      "    [\n",
      "        \"\\u4e0d\\u52a8\\u4ea7\\u767b\\u8bb0\\u7c3f\\u662f\\u7269\\u6743\\u5f52\\u5c5e\\u548c\\u5185\\u5bb9\\u7684\\u6839\\u636e\\u3002\\n\\u4e0d\\u52a8\\u4ea7\\u767b\\u8bb0\\u7c3f\\u8bb0\\u8f7d\\u7684\\u4e8b\\u9879\\u4e0e\\u4e0d\\u52a8\\u4ea7\\u6743\\u5c5e\\u8bc1\\u4e66\\u8bb0\\u8f7d\\u7684\\u4e8b\\u9879\\u4e0d\\u4e00\\u81f4\\u7684\\uff0c\\u9664\\u6709\\u8bc1\\u636e\\u8bc1\\u660e\\u4e0d\\u52a8\\u4ea7\\u767b\\u8bb0\\u7c3f\\u786e\\u6709\\u9519\\u8bef\\u5916\\uff0c\\u4ee5\\u4e0d\\u52a8\\u4ea7\\u767b\\u8bb0\\u7c3f\\u4e3a\\u51c6\\u3002\",\n",
      "        0.7050387263298035\n",
      "    ],\n",
      "    [\n",
      "        \"\\u56fd\\u5bb6\\u575a\\u6301\\u548c\\u5b8c\\u5584\\u793e\\u4f1a\\u4e3b\\u4e49\\u516c\\u6709\\u5236\\u4e3a\\u4e3b\\u4f53\\u3001\\u591a\\u79cd\\u6240\\u6709\\u5236\\u7ecf\\u6d4e\\u5171\\u540c\\u53d1\\u5c55\\u7684\\u57fa\\u672c\\u7ecf\\u6d4e\\u5236\\u5ea6\\u3002\\n\\u56fd\\u5bb6\\u5de9\\u56fa\\u548c\\u53d1\\u5c55\\u516c\\u6709\\u5236\\u7ecf\\u6d4e\\uff0c\\u9f13\\u52b1\\u3001\\u652f\\u6301\\u548c\\u5f15\\u5bfc\\u975e\\u516c\\u6709\\u5236\\u7ecf\\u6d4e\\u7684\\u53d1\\u5c55\\u3002\\n\\u56fd\\u5bb6\\u5b9e\\u884c\\u793e\\u4f1a\\u4e3b\\u4e49\\u5e02\\u573a\\u7ecf\\u6d4e\\uff0c\\u4fdd\\u969c\\u4e00\\u5207\\u5e02\\u573a\\u4e3b\\u4f53\\u7684\\u5e73\\u7b49\\u6cd5\\u5f8b\\u5730\\u4f4d\\u548c\\u53d1\\u5c55\\u6743\\u5229\\u3002\",\n",
      "        0.6966318488121033\n",
      "    ],\n",
      "    [\n",
      "        \"\\u5f53\\u4e8b\\u4eba\\u7533\\u8bf7\\u767b\\u8bb0\\uff0c\\u5e94\\u5f53\\u6839\\u636e\\u4e0d\\u540c\\u767b\\u8bb0\\u4e8b\\u9879\\u63d0\\u4f9b\\u6750\\u6599\\u3002\\n\\u7533\\u8bf7\\u767b\\u8bb0\\u6750\\u6599\\u4ee5\\u53ca\\u767b\\u8bb0\\u4e8b\\u9879\\u76f8\\u5173\\u4fe1\\u606f\\uff0c\\u53ef\\u4ee5\\u516c\\u5f00\\u67e5\\u8be2\\u3002\",\n",
      "        0.6711220145225525\n",
      "    ],\n",
      "    [\n",
      "        \"\\u4e0d\\u52a8\\u4ea7\\u767b\\u8bb0\\uff0c\\u7531\\u4e0d\\u52a8\\u4ea7\\u6240\\u5728\\u5730\\u7684\\u767b\\u8bb0\\u673a\\u6784\\u529e\\u7406\\u3002\\n\\u56fd\\u5bb6\\u5bf9\\u4e0d\\u52a8\\u4ea7\\u5b9e\\u884c\\u7edf\\u4e00\\u767b\\u8bb0\\u5236\\u5ea6\\u3002\\u7edf\\u4e00\\u767b\\u8bb0\\u7684\\u8303\\u56f4\\u3001\\u767b\\u8bb0\\u673a\\u6784\\u548c\\u767b\\u8bb0\\u529e\\u6cd5\\uff0c\\u7531\\u6cd5\\u5f8b\\u3001\\u884c\\u653f\\u6cd5\\u89c4\\u89c4\\u5b9a\\u3002\",\n",
      "        0.6711220145225525\n",
      "    ],\n",
      "    [\n",
      "        \"\\u5229\\u5bb3\\u5173\\u7cfb\\u4eba\\u53ef\\u4ee5\\u7533\\u8bf7\\u67e5\\u8be2\\u4e0d\\u52a8\\u4ea7\\u767b\\u8bb0\\u8d44\\u6599\\u3002\\u7533\\u8bf7\\u67e5\\u8be2\\u7684\\uff0c\\u767b\\u8bb0\\u673a\\u6784\\u5e94\\u5f53\\u63d0\\u4f9b\\u3002\",\n",
      "        0.6660386323928833\n",
      "    ],\n",
      "    [\n",
      "        \"\\u6743\\u5229\\u4eba\\u3001\\u5229\\u5bb3\\u5173\\u7cfb\\u4eba\\u53ef\\u4ee5\\u7533\\u8bf7\\u67e5\\u8be2\\u3001\\u590d\\u5236\\u4e0d\\u52a8\\u4ea7\\u767b\\u8bb0\\u8d44\\u6599\\uff0c\\u767b\\u8bb0\\u673a\\u6784\\u5e94\\u5f53\\u63d0\\u4f9b\\u3002\",\n",
      "        0.6660386323928833\n",
      "    ],\n",
      "    [\n",
      "        \"\\u56fd\\u5bb6\\u3001\\u96c6\\u4f53\\u3001\\u79c1\\u4eba\\u7684\\u7269\\u6743\\u548c\\u5176\\u4ed6\\u6743\\u5229\\u4eba\\u7684\\u7269\\u6743\\u53d7\\u6cd5\\u5f8b\\u5e73\\u7b49\\u4fdd\\u62a4\\uff0c\\u4efb\\u4f55\\u7ec4\\u7ec7\\u6216\\u8005\\u4e2a\\u4eba\\u4e0d\\u5f97\\u4fb5\\u72af\\u3002\",\n",
      "        0.6660386323928833\n",
      "    ],\n",
      "    [\n",
      "        \"\\u4e0d\\u52a8\\u4ea7\\u7269\\u6743\\u7684\\u8bbe\\u7acb\\u3001\\u53d8\\u66f4\\u3001\\u8f6c\\u8ba9\\u548c\\u6d88\\u706d\\uff0c\\u4f9d\\u7167\\u6cd5\\u5f8b\\u89c4\\u5b9a\\u5e94\\u5f53\\u767b\\u8bb0\\u7684\\uff0c\\u81ea\\u8bb0\\u8f7d\\u4e8e\\u4e0d\\u52a8\\u4ea7\\u767b\\u8bb0\\u7c3f\\u65f6\\u53d1\\u751f\\u6548\\u529b\\u3002\",\n",
      "        0.6521183252334595\n",
      "    ]\n",
      "]\n"
     ]
    }
   ],
   "source": [
    "import json\n",
    "\n",
    "retrieved_lines_with_distances = [\n",
    "    (res[\"entity\"][\"text\"], res[\"distance\"]) for res in search_res[0]\n",
    "]\n",
    "print(json.dumps(retrieved_lines_with_distances, indent=4))"
   ]
  },
  {
   "cell_type": "markdown",
   "id": "ccd4c186",
   "metadata": {},
   "source": [
    "### 使用 LLM 获取 RAG 响应"
   ]
  },
  {
   "cell_type": "markdown",
   "id": "4cd1ae3a",
   "metadata": {},
   "source": [
    "将检索到的文档转换为字符串格式。"
   ]
  },
  {
   "cell_type": "code",
   "execution_count": 217,
   "id": "0676448f",
   "metadata": {},
   "outputs": [],
   "source": [
    "context = \"\\n\".join(\n",
    "    [line_with_distance[0] for line_with_distance in retrieved_lines_with_distances]\n",
    ")"
   ]
  },
  {
   "cell_type": "code",
   "execution_count": 218,
   "id": "107df42a-b3f7-48a8-b66b-fc82fe3ec174",
   "metadata": {},
   "outputs": [
    {
     "data": {
      "text/plain": [
       "'本编调整因物的归属和利用产生的民事关系。\\n不动产登记簿由登记机构管理。\\n不动产登记簿应当采用纸质形式或者电子形式。\\n不动产登记簿采用电子形式的，应当备份。\\n不动产登记簿是物权归属和内容的根据。\\n不动产登记簿记载的事项与不动产权属证书记载的事项不一致的，除有证据证明不动产登记簿确有错误外，以不动产登记簿为准。\\n国家坚持和完善社会主义公有制为主体、多种所有制经济共同发展的基本经济制度。\\n国家巩固和发展公有制经济，鼓励、支持和引导非公有制经济的发展。\\n国家实行社会主义市场经济，保障一切市场主体的平等法律地位和发展权利。\\n当事人申请登记，应当根据不同登记事项提供材料。\\n申请登记材料以及登记事项相关信息，可以公开查询。\\n不动产登记，由不动产所在地的登记机构办理。\\n国家对不动产实行统一登记制度。统一登记的范围、登记机构和登记办法，由法律、行政法规规定。\\n利害关系人可以申请查询不动产登记资料。申请查询的，登记机构应当提供。\\n权利人、利害关系人可以申请查询、复制不动产登记资料，登记机构应当提供。\\n国家、集体、私人的物权和其他权利人的物权受法律平等保护，任何组织或者个人不得侵犯。\\n不动产物权的设立、变更、转让和消灭，依照法律规定应当登记的，自记载于不动产登记簿时发生效力。'"
      ]
     },
     "execution_count": 218,
     "metadata": {},
     "output_type": "execute_result"
    }
   ],
   "source": [
    "context"
   ]
  },
  {
   "cell_type": "code",
   "execution_count": 219,
   "id": "19998758-7f98-4cb8-8789-625fcfaad00e",
   "metadata": {},
   "outputs": [
    {
     "data": {
      "text/plain": [
       "'不动产'"
      ]
     },
     "execution_count": 219,
     "metadata": {},
     "output_type": "execute_result"
    }
   ],
   "source": [
    "question"
   ]
  },
  {
   "cell_type": "markdown",
   "id": "7ad25756",
   "metadata": {},
   "source": [
    "为语言模型定义系统和用户提示。此提示是使用从 Milvus 检索到的文档组装而成的。"
   ]
  },
  {
   "cell_type": "code",
   "execution_count": 220,
   "id": "b655f6f3",
   "metadata": {},
   "outputs": [],
   "source": [
    "SYSTEM_PROMPT = \"\"\"\n",
    "Human: 你是一个 AI 助手。你能够从提供的上下文段落片段中找到问题的答案。\n",
    "\"\"\"\n",
    "USER_PROMPT = f\"\"\"\n",
    "请使用以下用 <context> 标签括起来的信息片段来回答用 <question> 标签括起来的问题。最后追加原始回答的中文翻译，并用 <translated>和</translated> 标签标注。\n",
    "<context>\n",
    "{context}\n",
    "</context>\n",
    "<question>\n",
    "{question}\n",
    "</question>\n",
    "<translated>\n",
    "</translated>\n",
    "\"\"\""
   ]
  },
  {
   "cell_type": "code",
   "execution_count": 108,
   "id": "97089c31-f85c-47a9-8498-78520513bc67",
   "metadata": {},
   "outputs": [
    {
     "data": {
      "text/plain": [
       "\"\\n请使用以下用 <context> 标签括起来的信息片段来回答用 <question> 标签括起来的问题。最后追加原始回答的中文翻译，并用 <translated>和</translated> 标签标注。\\n<context>\\n本编调整因物的归属和利用产生的民事关系。\\n不动产登记簿由登记机构管理。\\n不动产登记簿应当采用纸质形式或者电子形式。\\n不动产登记簿采用电子形式的，应当备份。\\n不动产登记簿是物权归属和内容的根据。\\n不动产登记簿记载的事项与不动产权属证书记载的事项不一致的，除有证据证明不动产登记簿确有错误外，以不动产登记簿为准。\\n国家坚持和完善社会主义公有制为主体、多种所有制经济共同发展的基本经济制度。\\n国家巩固和发展公有制经济，鼓励、支持和引导非公有制经济的发展。\\n国家实行社会主义市场经济，保障一切市场主体的平等法律地位和发展权利。\\n当事人申请登记，应当根据不同登记事项提供材料。\\n申请登记材料以及登记事项相关信息，可以公开查询。\\n</context>\\n<question>\\n['什么', '是', '预告', '登记']\\n</question>\\n<translated>\\n</translated>\\n\""
      ]
     },
     "execution_count": 108,
     "metadata": {},
     "output_type": "execute_result"
    }
   ],
   "source": [
    "USER_PROMPT"
   ]
  },
  {
   "cell_type": "markdown",
   "id": "184b457f",
   "metadata": {},
   "source": [
    "使用 DeepSeek 提供的 `deepseek-chat` 模型根据提示生成响应。"
   ]
  },
  {
   "cell_type": "code",
   "execution_count": 221,
   "id": "638a7561",
   "metadata": {},
   "outputs": [
    {
     "name": "stdout",
     "output_type": "stream",
     "text": [
      "Question: 不动产\n",
      "Answer: \n",
      "不动产是指土地、建筑物等不可移动的财产。根据提供的上下文，不动产的相关规定包括：\n",
      "\n",
      "1. 不动产登记簿由登记机构管理，可以采用纸质或电子形式（电子形式需备份）。\n",
      "2. 不动产登记簿是物权归属和内容的法定依据，当与权属证书不一致时，以登记簿为准（除非证明登记簿有误）。\n",
      "3. 国家实行统一登记制度，登记由不动产所在地的登记机构办理。\n",
      "4. 不动产物权的设立、变更等，依法需登记的，自记载于登记簿时生效。\n",
      "5. 权利人及利害关系人可查询、复制登记资料，登记机构应提供。\n",
      "6. 国家、集体、私人的物权受法律平等保护。\n",
      "\n",
      "<translated>\n",
      "不动产指土地、房屋等无法移动的财产。根据上下文，其管理规定包括：登记簿由官方管理（纸质/电子），是物权法定依据；实行统一登记制度，物权变动以登记簿记载为准；相关方可依法查询登记信息；各类主体的物权均受法律平等保护。\n",
      "</translated>\n"
     ]
    }
   ],
   "source": [
    "response = deepseek_client.chat.completions.create(\n",
    "    model=\"deepseek-chat\",\n",
    "    messages=[\n",
    "        {\"role\": \"system\", \"content\": SYSTEM_PROMPT},\n",
    "        {\"role\": \"user\", \"content\": USER_PROMPT},\n",
    "    ],\n",
    ")\n",
    "print(f\"Question: {question}\")\n",
    "print(f\"Answer: \\n{response.choices[0].message.content}\")"
   ]
  },
  {
   "cell_type": "code",
   "execution_count": 54,
   "id": "50ce3b55-7daa-4727-95bd-3b00f6aa2b03",
   "metadata": {},
   "outputs": [
    {
     "name": "stdout",
     "output_type": "stream",
     "text": [
      "[pair('什么', 'r'), pair('是', 'v'), pair('预告', 'v'), pair('登记', 'v'), pair('？', 'x')]\n",
      "['是', '预告', '登记']\n"
     ]
    }
   ],
   "source": [
    "import jieba.posseg as pseg\n",
    "\n",
    "# 待分词的句子\n",
    "sentence = \"什么是预告登记？\"\n",
    "\n",
    "# 分词\n",
    "words = pseg.lcut(sentence)\n",
    "print(words)\n",
    "nouns = [word for word, flag in words if flag.startswith('n') or flag.startswith('v')]\n",
    "\n",
    "# 输出结果\n",
    "print(nouns)"
   ]
  }
 ],
 "metadata": {
  "kernelspec": {
   "display_name": ".venv",
   "language": "python",
   "name": "python3"
  },
  "language_info": {
   "codemirror_mode": {
    "name": "ipython",
    "version": 3
   },
   "file_extension": ".py",
   "mimetype": "text/x-python",
   "name": "python",
   "nbconvert_exporter": "python",
   "pygments_lexer": "ipython3",
   "version": "3.10.16"
  }
 },
 "nbformat": 4,
 "nbformat_minor": 5
}
